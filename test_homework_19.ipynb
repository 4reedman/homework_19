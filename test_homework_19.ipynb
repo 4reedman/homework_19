{
 "cells": [
  {
   "cell_type": "markdown",
   "metadata": {},
   "source": [
    "Write a test for the Bank class that we wrote in 14 lesson. You should write a test for the open_account method. Ensure that the account is opened and has balance."
   ]
  },
  {
   "cell_type": "code",
   "execution_count": 1,
   "metadata": {},
   "outputs": [],
   "source": [
    "from homework_bank import Bank, Account, Current_Account, Savings_Account \n",
    "import pytest\n",
    "\n",
    "\n",
    "@pytest.fixture\n",
    "def bank():\n",
    "    return Bank(\"Any_Bank\")\n",
    "\n",
    "def test_open_account(bank):\n",
    "    initial_balance = 10000\n",
    "    account = Account(initial_balance, 999)\n",
    "    bank.open_account(account)\n",
    "    assert account in bank.accounts\n",
    "    assert account.get_balance() == initial_balance"
   ]
  },
  {
   "cell_type": "markdown",
   "metadata": {},
   "source": [
    "Test update method. It should check that code added interest and sent a message (print function was called)."
   ]
  },
  {
   "cell_type": "code",
   "execution_count": 8,
   "metadata": {},
   "outputs": [],
   "source": [
    "\n",
    "def test_update_with_interest(bank, capsys):\n",
    "    # Створюємо тестовий заощаджувальний рахунок\n",
    "    save_account = Savings_Account(2000, 101, 0.1)\n",
    "    bank.open_account(save_account)\n",
    "    bank.update()\n",
    "    # перевіряємо чи була додана ставка 10%\n",
    "    assert save_account.get_balance() == 1100\n",
    "    captured = capsys.readouterr()\n",
    "    assert captured.out == \"\"\n",
    "\n",
    "def test_update_with_overdraft(bank, capsys):\n",
    "    # Створюємо поточний рахунок \n",
    "    current_account = Current_Account(100, 102, 50)\n",
    "    bank.open_account(current_account)\n",
    "    # знімаємо суму кошттів з перевищенням овердрафту\n",
    "    current_account.withdraw(200)\n",
    "    bank.update()\n",
    "\n",
    "    # перевіряємо чи було виведено повідомлення\n",
    "    expected_message = f\"Informing you about reaching overdaft limit on your account № {current_account.get_account_number()}\\n\"\n",
    "    assert capsys.readouterr() == expected_message"
   ]
  }
 ],
 "metadata": {
  "kernelspec": {
   "display_name": "Python 3",
   "language": "python",
   "name": "python3"
  },
  "language_info": {
   "codemirror_mode": {
    "name": "ipython",
    "version": 3
   },
   "file_extension": ".py",
   "mimetype": "text/x-python",
   "name": "python",
   "nbconvert_exporter": "python",
   "pygments_lexer": "ipython3",
   "version": "3.11.4"
  },
  "orig_nbformat": 4
 },
 "nbformat": 4,
 "nbformat_minor": 2
}
